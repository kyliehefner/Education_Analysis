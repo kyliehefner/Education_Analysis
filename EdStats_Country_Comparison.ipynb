{
 "cells": [
  {
   "attachments": {},
   "cell_type": "markdown",
   "id": "f261966f",
   "metadata": {},
   "source": [
    "# Data Loading and Cleaning"
   ]
  },
  {
   "cell_type": "code",
   "execution_count": 1,
   "id": "dadc8437",
   "metadata": {},
   "outputs": [],
   "source": [
    "# Import modules\n",
    "import pandas as pd\n",
    "import numpy as np"
   ]
  },
  {
   "cell_type": "code",
   "execution_count": 2,
   "id": "b88d9543",
   "metadata": {},
   "outputs": [],
   "source": [
    "# Load in all data tables\n",
    "country_series_df = pd.read_csv(\"Resources/EdStatsCountry-Series.csv\")\n",
    "country_df = pd.read_csv(\"Resources/EdStatsCountry.csv\")\n",
    "indicators_df = pd.read_csv(\"Resources/EdStatsData.csv\")\n",
    "footnote_df = pd.read_csv(\"Resources/EdStatsFootNote.csv\")\n",
    "series_df = pd.read_csv(\"Resources/EdStatsSeries.csv\")"
   ]
  },
  {
   "cell_type": "code",
   "execution_count": 15,
   "metadata": {},
   "outputs": [
    {
     "name": "stdout",
     "output_type": "stream",
     "text": [
      "Number of missing data points:\n",
      "country_series_df: 613\n",
      "country_df: 2354\n",
      "footnote_df: 643638\n",
      "indicators_df: 53455179\n",
      "series_df: 55203\n"
     ]
    }
   ],
   "source": [
    "# Look for missing values\n",
    "country_series_null_count = country_series_df.isnull().sum().sum()\n",
    "country_null_count = country_df.isnull().sum().sum()\n",
    "footnote_null_count = footnote_df.isnull().sum().sum()\n",
    "indicators_null_count = indicators_df.isnull().sum().sum()\n",
    "series_null_count = series_df.isnull().sum().sum()\n",
    "\n",
    "print(f\"Number of missing values:\\ncountry_series_df: {country_series_null_count}\\ncountry_df: {country_null_count}\\nfootnote_df: {footnote_null_count}\\nindicators_df: {indicators_null_count}\\nseries_df: {series_null_count}\")"
   ]
  },
  {
   "cell_type": "code",
   "execution_count": 16,
   "metadata": {},
   "outputs": [
    {
     "name": "stdout",
     "output_type": "stream",
     "text": [
      "86.09985165522806\n"
     ]
    }
   ],
   "source": [
    "# Percent of missing values in indicators\n",
    "print(indicators_null_count/np.product(indicators_df.shape)*100)"
   ]
  },
  {
   "cell_type": "code",
   "execution_count": 27,
   "id": "9be43a43",
   "metadata": {},
   "outputs": [
    {
     "data": {
      "text/plain": [
       "Country Name           0\n",
       "Country Code           0\n",
       "Indicator Name         0\n",
       "Indicator Code         0\n",
       "1970              814642\n",
       "                   ...  \n",
       "2080              835494\n",
       "2085              835494\n",
       "2090              835494\n",
       "2095              835494\n",
       "2100              835494\n",
       "Length: 69, dtype: int64"
      ]
     },
     "execution_count": 27,
     "metadata": {},
     "output_type": "execute_result"
    }
   ],
   "source": [
    "# Look at the number of missing points in the columns\n",
    "indicators_df.isnull().sum()"
   ]
  },
  {
   "cell_type": "code",
   "execution_count": 18,
   "id": "dcafda93",
   "metadata": {},
   "outputs": [
    {
     "data": {
      "text/plain": [
       "(886930, 69)"
      ]
     },
     "execution_count": 18,
     "metadata": {},
     "output_type": "execute_result"
    }
   ],
   "source": [
    "# Drop columns with all nulls\n",
    "indicators_df = indicators_df.dropna(axis = 0, how = 'all')\n",
    "indicators_df.shape"
   ]
  },
  {
   "cell_type": "code",
   "execution_count": 33,
   "id": "7cca1aeb",
   "metadata": {},
   "outputs": [
    {
     "data": {
      "text/plain": [
       "(357405, 69)"
      ]
     },
     "execution_count": 33,
     "metadata": {},
     "output_type": "execute_result"
    }
   ],
   "source": [
    "# Remove all the rows that contain missing values in all years (65)\n",
    "indicators_df = indicators_df[indicators_df.isnull().sum(axis=1) < 65] # keeps only rows with less than 65 nans in dataframe\n",
    "indicators_df.shape"
   ]
  },
  {
   "cell_type": "code",
   "execution_count": null,
   "id": "7e62c4fd",
   "metadata": {},
   "outputs": [],
   "source": [
    "# "
   ]
  }
 ],
 "metadata": {
  "kernelspec": {
   "display_name": "mlenv",
   "language": "python",
   "name": "mlenv"
  },
  "language_info": {
   "codemirror_mode": {
    "name": "ipython",
    "version": 3
   },
   "file_extension": ".py",
   "mimetype": "text/x-python",
   "name": "python",
   "nbconvert_exporter": "python",
   "pygments_lexer": "ipython3",
   "version": "3.7.13"
  }
 },
 "nbformat": 4,
 "nbformat_minor": 5
}
